{
 "cells": [
  {
   "cell_type": "code",
   "execution_count": null,
   "id": "ce3326c0-f1f7-4152-9418-6b8be585410e",
   "metadata": {},
   "outputs": [],
   "source": [
    "                                          #Loop Questions"
   ]
  },
  {
   "cell_type": "code",
   "execution_count": 1,
   "id": "cf46fc35-c298-4f01-b3d9-87e80eb1ecd4",
   "metadata": {},
   "outputs": [],
   "source": [
    "#1) to print numbers from 1-10 using loop\n",
    "\n"
   ]
  },
  {
   "cell_type": "code",
   "execution_count": 2,
   "id": "d2ef22b2-f063-4906-8666-8d0d1d8212e6",
   "metadata": {},
   "outputs": [
    {
     "name": "stdout",
     "output_type": "stream",
     "text": [
      "1\n",
      "2\n",
      "3\n",
      "4\n",
      "5\n",
      "6\n",
      "7\n",
      "8\n",
      "9\n",
      "10\n"
     ]
    }
   ],
   "source": [
    "for i in range(1,11):\n",
    "    print(i)"
   ]
  },
  {
   "cell_type": "code",
   "execution_count": 3,
   "id": "cd38b54a-34ab-44de-80dc-746e96b34182",
   "metadata": {},
   "outputs": [],
   "source": [
    "#2) to find sum of all numbers from 1-100 using for loop\n",
    "\n"
   ]
  },
  {
   "cell_type": "code",
   "execution_count": 2,
   "id": "33397da4-4f89-4106-8053-4728a67965d9",
   "metadata": {},
   "outputs": [
    {
     "name": "stdout",
     "output_type": "stream",
     "text": [
      "the sum of 1 numbers is: 1\n",
      "the sum of 2 numbers is: 3\n",
      "the sum of 3 numbers is: 6\n",
      "the sum of 4 numbers is: 10\n",
      "the sum of 5 numbers is: 15\n",
      "the sum of 6 numbers is: 21\n",
      "the sum of 7 numbers is: 28\n",
      "the sum of 8 numbers is: 36\n",
      "the sum of 9 numbers is: 45\n",
      "the sum of 10 numbers is: 55\n",
      "the sum of 11 numbers is: 66\n",
      "the sum of 12 numbers is: 78\n",
      "the sum of 13 numbers is: 91\n",
      "the sum of 14 numbers is: 105\n",
      "the sum of 15 numbers is: 120\n",
      "the sum of 16 numbers is: 136\n",
      "the sum of 17 numbers is: 153\n",
      "the sum of 18 numbers is: 171\n",
      "the sum of 19 numbers is: 190\n",
      "the sum of 20 numbers is: 210\n",
      "the sum of 21 numbers is: 231\n",
      "the sum of 22 numbers is: 253\n",
      "the sum of 23 numbers is: 276\n",
      "the sum of 24 numbers is: 300\n",
      "the sum of 25 numbers is: 325\n",
      "the sum of 26 numbers is: 351\n",
      "the sum of 27 numbers is: 378\n",
      "the sum of 28 numbers is: 406\n",
      "the sum of 29 numbers is: 435\n",
      "the sum of 30 numbers is: 465\n",
      "the sum of 31 numbers is: 496\n",
      "the sum of 32 numbers is: 528\n",
      "the sum of 33 numbers is: 561\n",
      "the sum of 34 numbers is: 595\n",
      "the sum of 35 numbers is: 630\n",
      "the sum of 36 numbers is: 666\n",
      "the sum of 37 numbers is: 703\n",
      "the sum of 38 numbers is: 741\n",
      "the sum of 39 numbers is: 780\n",
      "the sum of 40 numbers is: 820\n",
      "the sum of 41 numbers is: 861\n",
      "the sum of 42 numbers is: 903\n",
      "the sum of 43 numbers is: 946\n",
      "the sum of 44 numbers is: 990\n",
      "the sum of 45 numbers is: 1035\n",
      "the sum of 46 numbers is: 1081\n",
      "the sum of 47 numbers is: 1128\n",
      "the sum of 48 numbers is: 1176\n",
      "the sum of 49 numbers is: 1225\n",
      "the sum of 50 numbers is: 1275\n",
      "the sum of 51 numbers is: 1326\n",
      "the sum of 52 numbers is: 1378\n",
      "the sum of 53 numbers is: 1431\n",
      "the sum of 54 numbers is: 1485\n",
      "the sum of 55 numbers is: 1540\n",
      "the sum of 56 numbers is: 1596\n",
      "the sum of 57 numbers is: 1653\n",
      "the sum of 58 numbers is: 1711\n",
      "the sum of 59 numbers is: 1770\n",
      "the sum of 60 numbers is: 1830\n",
      "the sum of 61 numbers is: 1891\n",
      "the sum of 62 numbers is: 1953\n",
      "the sum of 63 numbers is: 2016\n",
      "the sum of 64 numbers is: 2080\n",
      "the sum of 65 numbers is: 2145\n",
      "the sum of 66 numbers is: 2211\n",
      "the sum of 67 numbers is: 2278\n",
      "the sum of 68 numbers is: 2346\n",
      "the sum of 69 numbers is: 2415\n",
      "the sum of 70 numbers is: 2485\n",
      "the sum of 71 numbers is: 2556\n",
      "the sum of 72 numbers is: 2628\n",
      "the sum of 73 numbers is: 2701\n",
      "the sum of 74 numbers is: 2775\n",
      "the sum of 75 numbers is: 2850\n",
      "the sum of 76 numbers is: 2926\n",
      "the sum of 77 numbers is: 3003\n",
      "the sum of 78 numbers is: 3081\n",
      "the sum of 79 numbers is: 3160\n",
      "the sum of 80 numbers is: 3240\n",
      "the sum of 81 numbers is: 3321\n",
      "the sum of 82 numbers is: 3403\n",
      "the sum of 83 numbers is: 3486\n",
      "the sum of 84 numbers is: 3570\n",
      "the sum of 85 numbers is: 3655\n",
      "the sum of 86 numbers is: 3741\n",
      "the sum of 87 numbers is: 3828\n",
      "the sum of 88 numbers is: 3916\n",
      "the sum of 89 numbers is: 4005\n",
      "the sum of 90 numbers is: 4095\n",
      "the sum of 91 numbers is: 4186\n",
      "the sum of 92 numbers is: 4278\n",
      "the sum of 93 numbers is: 4371\n",
      "the sum of 94 numbers is: 4465\n",
      "the sum of 95 numbers is: 4560\n",
      "the sum of 96 numbers is: 4656\n",
      "the sum of 97 numbers is: 4753\n",
      "the sum of 98 numbers is: 4851\n",
      "the sum of 99 numbers is: 4950\n",
      "the sum of 100 numbers is: 5050\n"
     ]
    }
   ],
   "source": [
    "sum_all=0\n",
    "for i in range(1,101):\n",
    "    sum_all+=i\n",
    "    print(\"the sum of\",i, \"numbers is:\",sum_all)"
   ]
  },
  {
   "cell_type": "code",
   "execution_count": 10,
   "id": "20d40724-b1a3-461a-9baf-6ec768f71cd2",
   "metadata": {},
   "outputs": [],
   "source": [
    "#4) to iterate through a list using loop\n",
    "\n"
   ]
  },
  {
   "cell_type": "code",
   "execution_count": 29,
   "id": "343af377-6b77-460e-a300-569515a6b7e6",
   "metadata": {},
   "outputs": [],
   "source": [
    "l1=['sunita','choudhary']"
   ]
  },
  {
   "cell_type": "code",
   "execution_count": 37,
   "id": "f04e1306-39eb-4b83-ac4c-79787873a3b3",
   "metadata": {},
   "outputs": [
    {
     "name": "stdout",
     "output_type": "stream",
     "text": [
      "sunita\n",
      "choudhary\n"
     ]
    }
   ],
   "source": [
    "for i in l1:\n",
    "     print(i)\n",
    "    "
   ]
  },
  {
   "cell_type": "code",
   "execution_count": 38,
   "id": "b43efe73-c78b-4e32-9626-5cbf03085a8e",
   "metadata": {},
   "outputs": [],
   "source": [
    "#5) to find product of all elements in list using for loop\n",
    "\n"
   ]
  },
  {
   "cell_type": "code",
   "execution_count": 52,
   "id": "df102607-f872-4403-8c95-2d9844f769a9",
   "metadata": {},
   "outputs": [],
   "source": [
    "l1=[2,3,4]"
   ]
  },
  {
   "cell_type": "code",
   "execution_count": 58,
   "id": "a9457f18-72e1-4f1f-88d8-4fcdd33b0435",
   "metadata": {},
   "outputs": [
    {
     "name": "stdout",
     "output_type": "stream",
     "text": [
      "2\n",
      "6\n",
      "24\n"
     ]
    }
   ],
   "source": [
    "m=1\n",
    "for i in range(0,(len(l1))):\n",
    "    m=m*l1[i]\n",
    "    print(m)\n",
    " "
   ]
  },
  {
   "cell_type": "code",
   "execution_count": 59,
   "id": "c5ea3ed3-3b17-47a4-b65b-c9b59732de9a",
   "metadata": {},
   "outputs": [],
   "source": [
    "#6) to print all even numbers from 1-20\n",
    "\n"
   ]
  },
  {
   "cell_type": "code",
   "execution_count": 3,
   "id": "474008e7-2521-4682-8919-a7926729afba",
   "metadata": {},
   "outputs": [
    {
     "name": "stdout",
     "output_type": "stream",
     "text": [
      "0\n",
      "2\n",
      "4\n",
      "6\n",
      "8\n",
      "10\n",
      "12\n",
      "14\n",
      "16\n",
      "18\n",
      "20\n"
     ]
    }
   ],
   "source": [
    "for i in range(0,21):\n",
    "    if (i%2==0):\n",
    "        print(i)\n",
    "    "
   ]
  },
  {
   "cell_type": "code",
   "execution_count": 71,
   "id": "9d2de576-62d1-4a8e-8d3d-7f3de0bbd848",
   "metadata": {},
   "outputs": [],
   "source": [
    "#7)to calculate the factorial of a number using for loop\n",
    "\n"
   ]
  },
  {
   "cell_type": "code",
   "execution_count": 76,
   "id": "7614beca-6c35-40dd-be7f-de57e1446a50",
   "metadata": {},
   "outputs": [
    {
     "name": "stdout",
     "output_type": "stream",
     "text": [
      "enter the number\n"
     ]
    }
   ],
   "source": [
    "print(\"enter the number\")"
   ]
  },
  {
   "cell_type": "code",
   "execution_count": 78,
   "id": "9eb832ad-895f-4075-8f8b-07840c59b2f7",
   "metadata": {},
   "outputs": [
    {
     "name": "stdin",
     "output_type": "stream",
     "text": [
      " 8\n"
     ]
    }
   ],
   "source": [
    "i=int(input())"
   ]
  },
  {
   "cell_type": "code",
   "execution_count": 80,
   "id": "a218597f-8b02-4c03-85f3-690b9712c35f",
   "metadata": {},
   "outputs": [],
   "source": [
    "fact=1\n",
    "for i in range (1,(i+1)):\n",
    "    fact=fact*i\n",
    "    "
   ]
  },
  {
   "cell_type": "code",
   "execution_count": 81,
   "id": "2f534f36-de23-4d1e-8339-058f702cbc0c",
   "metadata": {},
   "outputs": [
    {
     "name": "stdout",
     "output_type": "stream",
     "text": [
      "the factorial of the above number is: 40320\n"
     ]
    }
   ],
   "source": [
    "print(\"the factorial of the above number is:\",fact)"
   ]
  },
  {
   "cell_type": "code",
   "execution_count": 82,
   "id": "9e6324fd-54e1-4a5e-a959-8cc04aedebe8",
   "metadata": {},
   "outputs": [],
   "source": [
    "#8) to iterate through characters of string using loop\n",
    "\n"
   ]
  },
  {
   "cell_type": "code",
   "execution_count": 83,
   "id": "4f26a9d1-ab35-40ad-88fc-51c31e2135cb",
   "metadata": {},
   "outputs": [],
   "source": [
    "s=str(input)"
   ]
  },
  {
   "cell_type": "code",
   "execution_count": 84,
   "id": "a1023501-bd1b-4290-9a12-bab34ebfc850",
   "metadata": {},
   "outputs": [],
   "source": [
    "s='simranjeet'"
   ]
  },
  {
   "cell_type": "code",
   "execution_count": 94,
   "id": "f3c59e98-554b-424f-a2db-32f27ef9892b",
   "metadata": {},
   "outputs": [
    {
     "name": "stdout",
     "output_type": "stream",
     "text": [
      "s\n",
      "i\n",
      "m\n",
      "r\n",
      "a\n",
      "n\n",
      "j\n",
      "e\n",
      "e\n",
      "t\n"
     ]
    }
   ],
   "source": [
    "count=''\n",
    "for i in s:\n",
    "    count= s.join(i)\n",
    "    print(count)"
   ]
  },
  {
   "cell_type": "code",
   "execution_count": 95,
   "id": "329018c9-a9ee-4bd2-bdd3-ae56c689ce99",
   "metadata": {},
   "outputs": [],
   "source": [
    "#9) to find largest number in a list using for loop\n",
    "\n"
   ]
  },
  {
   "cell_type": "code",
   "execution_count": 96,
   "id": "a3bf5e22-7099-4c26-9cfc-dcd17aaaf442",
   "metadata": {},
   "outputs": [],
   "source": [
    "list1=[2,3,4,5,6]"
   ]
  },
  {
   "cell_type": "code",
   "execution_count": 97,
   "id": "7c12ccf3-2099-4d1c-ab58-2ef5676936fa",
   "metadata": {},
   "outputs": [],
   "source": [
    "total_sum =max(list1)            #max() function to find maximum value"
   ]
  },
  {
   "cell_type": "code",
   "execution_count": 98,
   "id": "e29eed76-db53-4963-8d7c-3aabfee91dc3",
   "metadata": {},
   "outputs": [
    {
     "name": "stdout",
     "output_type": "stream",
     "text": [
      "the maximum value in above list is: 6\n"
     ]
    }
   ],
   "source": [
    "print(\"the maximum value in above list is:\",total_sum)"
   ]
  },
  {
   "cell_type": "code",
   "execution_count": 99,
   "id": "585e0ebe-0436-497e-a946-6186968a41d8",
   "metadata": {},
   "outputs": [],
   "source": [
    "#10) to print fibonacci series upto a certain limit\n",
    "\n"
   ]
  },
  {
   "cell_type": "code",
   "execution_count": 100,
   "id": "564bc0fd-b6d7-429b-86bc-2159ae7838a3",
   "metadata": {},
   "outputs": [
    {
     "name": "stdin",
     "output_type": "stream",
     "text": [
      "enter range of number: 7\n"
     ]
    }
   ],
   "source": [
    "num= int(input(\"enter range of number:\"))"
   ]
  },
  {
   "cell_type": "code",
   "execution_count": 101,
   "id": "2d9e4ce1-ffed-4c3e-b5f4-85d8320cbf72",
   "metadata": {},
   "outputs": [],
   "source": [
    "first=0\n",
    "second=1"
   ]
  },
  {
   "cell_type": "code",
   "execution_count": 102,
   "id": "2ed07f4c-52df-4066-b0d1-72ea4614aad3",
   "metadata": {},
   "outputs": [
    {
     "name": "stdout",
     "output_type": "stream",
     "text": [
      "0\n",
      "1\n",
      "1\n",
      "2\n",
      "3\n",
      "5\n",
      "8\n"
     ]
    }
   ],
   "source": [
    "for n in range(0,num):\n",
    "    if (n<=1):\n",
    "        next=n\n",
    "    else:\n",
    "        next=first+second\n",
    "        first=second\n",
    "        second=next\n",
    "    print(next)   "
   ]
  },
  {
   "cell_type": "code",
   "execution_count": 103,
   "id": "dcb3ff7d-e935-48e3-ab9c-a41403420971",
   "metadata": {},
   "outputs": [],
   "source": [
    "#11) to count the number of vowels in a string using loop\n",
    "\n"
   ]
  },
  {
   "cell_type": "code",
   "execution_count": 104,
   "id": "a249908c-333f-4f53-9889-4c3c129de53c",
   "metadata": {},
   "outputs": [],
   "source": [
    "s=\"MissisippI\""
   ]
  },
  {
   "cell_type": "code",
   "execution_count": 105,
   "id": "18366356-936e-4047-b340-ba33356558ce",
   "metadata": {},
   "outputs": [
    {
     "data": {
      "text/plain": [
       "'missisippi'"
      ]
     },
     "execution_count": 105,
     "metadata": {},
     "output_type": "execute_result"
    }
   ],
   "source": [
    "s.lower()"
   ]
  },
  {
   "cell_type": "code",
   "execution_count": 106,
   "id": "7312ecc1-6a5d-4ad9-9945-aa3182a4a516",
   "metadata": {},
   "outputs": [],
   "source": [
    "count=0\n",
    "for i in s:\n",
    "    if(i=='a'or i=='e' or i=='o' or i=='u' or i=='i'):\n",
    "            count+=1    \n"
   ]
  },
  {
   "cell_type": "code",
   "execution_count": 107,
   "id": "c00348df-8557-4de6-b2c1-fdb2e1ee49ea",
   "metadata": {},
   "outputs": [
    {
     "name": "stdout",
     "output_type": "stream",
     "text": [
      "the number of vowels in the string are: 3\n"
     ]
    }
   ],
   "source": [
    "print(\"the number of vowels in the string are:\",count)"
   ]
  },
  {
   "cell_type": "code",
   "execution_count": 108,
   "id": "7e7a57dd-6679-4cf1-b72d-d8f56a966e45",
   "metadata": {},
   "outputs": [],
   "source": [
    "#12) to generate a multiplication table using for loop\n",
    "\n"
   ]
  },
  {
   "cell_type": "code",
   "execution_count": 109,
   "id": "8e46aaf4-7725-4d9a-a4d0-bf072b911e27",
   "metadata": {},
   "outputs": [
    {
     "name": "stdin",
     "output_type": "stream",
     "text": [
      " 5\n"
     ]
    }
   ],
   "source": [
    "n=int(input())"
   ]
  },
  {
   "cell_type": "code",
   "execution_count": 110,
   "id": "20c8eb72-de48-4091-84f0-a494f674248c",
   "metadata": {},
   "outputs": [
    {
     "name": "stdout",
     "output_type": "stream",
     "text": [
      "5 * 1 = 5\n",
      "5 * 2 = 10\n",
      "5 * 3 = 15\n",
      "5 * 4 = 20\n",
      "5 * 5 = 25\n",
      "5 * 6 = 30\n",
      "5 * 7 = 35\n",
      "5 * 8 = 40\n",
      "5 * 9 = 45\n",
      "5 * 10 = 50\n"
     ]
    }
   ],
   "source": [
    "for i in range (1,11):    \n",
    "    print(n,'*',i,'=',n*i)   "
   ]
  },
  {
   "cell_type": "code",
   "execution_count": 111,
   "id": "6e4ec493-616e-45b4-a634-9789164354a1",
   "metadata": {},
   "outputs": [],
   "source": [
    "#13) to reverse a list using for loop\n",
    "\n"
   ]
  },
  {
   "cell_type": "code",
   "execution_count": 112,
   "id": "2d448201-0d9f-4a85-a281-a2c8232af7e4",
   "metadata": {},
   "outputs": [],
   "source": [
    "#to input string\n",
    "a=str(input)"
   ]
  },
  {
   "cell_type": "code",
   "execution_count": 113,
   "id": "caa5488b-28e5-4d3a-93a2-5abb968c28a5",
   "metadata": {},
   "outputs": [],
   "source": [
    "a=\"India is a beautiful country\""
   ]
  },
  {
   "cell_type": "code",
   "execution_count": 114,
   "id": "1f22d2cb-91aa-446e-9dd2-f588399e0c64",
   "metadata": {},
   "outputs": [],
   "source": [
    "#to read the string backwards\n",
    "b=a[::-1]"
   ]
  },
  {
   "cell_type": "code",
   "execution_count": 115,
   "id": "193f4f91-b430-49d1-b145-d06b8e7f48b6",
   "metadata": {},
   "outputs": [
    {
     "name": "stdout",
     "output_type": "stream",
     "text": [
      "the reverse of above string is: yrtnuoc lufituaeb a si aidnI\n"
     ]
    }
   ],
   "source": [
    "print(\"the reverse of above string is:\", b)"
   ]
  },
  {
   "cell_type": "code",
   "execution_count": 116,
   "id": "c2f70c38-b3ca-4653-a994-3325c3c4dac2",
   "metadata": {},
   "outputs": [],
   "source": [
    "#14) to find common elements between two lists using for loop\n",
    "\n"
   ]
  },
  {
   "cell_type": "code",
   "execution_count": 117,
   "id": "e46550d8-da85-4b62-aa38-58b02af65ab1",
   "metadata": {},
   "outputs": [],
   "source": [
    "list1=[1,2,3,4,5]"
   ]
  },
  {
   "cell_type": "code",
   "execution_count": 118,
   "id": "81b1aaee-d3e6-48d2-8409-f1d59bd4e5b6",
   "metadata": {},
   "outputs": [],
   "source": [
    "list2=[3,4,5,6,7]"
   ]
  },
  {
   "cell_type": "code",
   "execution_count": 119,
   "id": "9b8e0bed-ab68-4dda-a534-f2819e7f11e9",
   "metadata": {},
   "outputs": [],
   "source": [
    "for i in list1[:]:\n",
    "    if i in list2:\n",
    "        list1.remove(i)\n",
    "        list2.remove(i)"
   ]
  },
  {
   "cell_type": "code",
   "execution_count": 120,
   "id": "d529b491-a171-47a9-92de-52bb7a4186ab",
   "metadata": {},
   "outputs": [
    {
     "name": "stdout",
     "output_type": "stream",
     "text": [
      "list1: [1, 2]\n"
     ]
    }
   ],
   "source": [
    "print(\"list1:\",list1)"
   ]
  },
  {
   "cell_type": "code",
   "execution_count": 121,
   "id": "d4cb9fc5-862e-4aeb-aec7-4c634423597d",
   "metadata": {},
   "outputs": [
    {
     "name": "stdout",
     "output_type": "stream",
     "text": [
      "list2: [6, 7]\n"
     ]
    }
   ],
   "source": [
    "print(\"list2:\",list2)"
   ]
  },
  {
   "cell_type": "code",
   "execution_count": 122,
   "id": "90addc87-d07f-46b3-b76d-c13427ec2507",
   "metadata": {},
   "outputs": [],
   "source": [
    "#15) to iterate through the keys and values of dictionary using loop\n",
    "\n"
   ]
  },
  {
   "cell_type": "code",
   "execution_count": 147,
   "id": "f5c7db35-efd4-46ec-8c04-e3e8a83f6a40",
   "metadata": {},
   "outputs": [],
   "source": [
    "l1={'name':'sunita', 'place':'lucknow','degree':'bachelors'}"
   ]
  },
  {
   "cell_type": "code",
   "execution_count": 153,
   "id": "d80effb9-7498-48a5-ae44-ce67cdce60c0",
   "metadata": {},
   "outputs": [
    {
     "data": {
      "text/plain": [
       "dict_values(['sunita', 'lucknow', 'bachelors'])"
      ]
     },
     "execution_count": 153,
     "metadata": {},
     "output_type": "execute_result"
    }
   ],
   "source": [
    "l1.values()"
   ]
  },
  {
   "cell_type": "code",
   "execution_count": 155,
   "id": "375160c8-0125-46ec-a8da-9943a9da91c5",
   "metadata": {},
   "outputs": [
    {
     "name": "stdout",
     "output_type": "stream",
     "text": [
      "name\n",
      "place\n",
      "degree\n"
     ]
    }
   ],
   "source": [
    "for keys in l1:\n",
    "    print(keys)"
   ]
  },
  {
   "cell_type": "code",
   "execution_count": 156,
   "id": "7911643f-5a5a-4036-90ae-e0229eac1e07",
   "metadata": {},
   "outputs": [],
   "source": [
    "#16) to find GCD among two numbers using loop\n",
    "\n"
   ]
  },
  {
   "cell_type": "code",
   "execution_count": 18,
   "id": "aa52edce-c73d-4b39-8eed-d064084955d1",
   "metadata": {},
   "outputs": [
    {
     "name": "stdin",
     "output_type": "stream",
     "text": [
      " 20\n"
     ]
    }
   ],
   "source": [
    "num1=int(input())\n"
   ]
  },
  {
   "cell_type": "code",
   "execution_count": 19,
   "id": "bea2e21b-c309-4528-b731-9ac90c61316f",
   "metadata": {},
   "outputs": [
    {
     "name": "stdin",
     "output_type": "stream",
     "text": [
      " 40\n"
     ]
    }
   ],
   "source": [
    "num2=int(input())"
   ]
  },
  {
   "cell_type": "code",
   "execution_count": 20,
   "id": "18665d2b-2023-4d3f-8180-06363e528509",
   "metadata": {},
   "outputs": [],
   "source": [
    "gcd=1"
   ]
  },
  {
   "cell_type": "code",
   "execution_count": 21,
   "id": "03d497d0-9f01-4020-bf7c-adcd04249f01",
   "metadata": {},
   "outputs": [],
   "source": [
    "for i in range(1, min(num1,num2)):\n",
    "    if num1%i==0 and num2%2==0:\n",
    "        gcd=i"
   ]
  },
  {
   "cell_type": "code",
   "execution_count": 23,
   "id": "34d60846-cafe-4844-a9f6-956b6007d041",
   "metadata": {},
   "outputs": [
    {
     "name": "stdout",
     "output_type": "stream",
     "text": [
      "the greatest common factor of 15 and 25 is: 10\n"
     ]
    }
   ],
   "source": [
    "print(\"the greatest common factor of 20 and 40 is:\", gcd)"
   ]
  },
  {
   "cell_type": "code",
   "execution_count": 24,
   "id": "9d467ea9-469d-45f6-bb87-2ad56a7017dd",
   "metadata": {},
   "outputs": [],
   "source": [
    "#17) to check if a string is pallindrome or not\n",
    "\n"
   ]
  },
  {
   "cell_type": "code",
   "execution_count": 25,
   "id": "6acc6c52-cee6-4359-b505-df3b4c0b0604",
   "metadata": {},
   "outputs": [],
   "source": [
    "s=str(input)"
   ]
  },
  {
   "cell_type": "code",
   "execution_count": 26,
   "id": "37d25fd0-a56f-4a53-b633-e3c23f6abe5b",
   "metadata": {},
   "outputs": [],
   "source": [
    "s='simranjeet'"
   ]
  },
  {
   "cell_type": "code",
   "execution_count": 30,
   "id": "7a15d98a-9036-42b3-80d3-116907d7acc8",
   "metadata": {},
   "outputs": [
    {
     "name": "stdout",
     "output_type": "stream",
     "text": [
      "the string is not a pallindrome\n"
     ]
    }
   ],
   "source": [
    "for i in s:\n",
    "    if s[::-1]==s:\n",
    "          print(\"the string is a pallindrome\")\n",
    "else:\n",
    "          print(\"the string is not a pallindrome\")"
   ]
  },
  {
   "cell_type": "code",
   "execution_count": 31,
   "id": "2f077aa2-3b8e-463d-81c7-2157659c9931",
   "metadata": {},
   "outputs": [],
   "source": [
    "#18) to remove duplicates from a list using loop\n",
    "\n"
   ]
  },
  {
   "cell_type": "code",
   "execution_count": 1,
   "id": "3e74f29b-10ca-47bd-9cdd-4fe750450a74",
   "metadata": {},
   "outputs": [],
   "source": [
    "l1=[13,57,13,41,86,41]"
   ]
  },
  {
   "cell_type": "code",
   "execution_count": 2,
   "id": "921bba1e-115f-4afd-8933-a67df6b7a8fd",
   "metadata": {},
   "outputs": [
    {
     "name": "stdout",
     "output_type": "stream",
     "text": [
      "the list is: [13, 57, 13, 41, 86, 41]\n"
     ]
    }
   ],
   "source": [
    "print(\"the list is:\",l1)"
   ]
  },
  {
   "cell_type": "code",
   "execution_count": 3,
   "id": "7a33d17e-a6e7-46f7-8f9c-592adf4aee18",
   "metadata": {},
   "outputs": [],
   "source": [
    "result=[]"
   ]
  },
  {
   "cell_type": "code",
   "execution_count": 5,
   "id": "ce23b1c5-9513-49c9-95ac-ac8734bf5df1",
   "metadata": {},
   "outputs": [
    {
     "name": "stdout",
     "output_type": "stream",
     "text": [
      "the final list after removing duplicates is: [13]\n",
      "the final list after removing duplicates is: [13, 57]\n",
      "the final list after removing duplicates is: [13, 57, 41]\n",
      "the final list after removing duplicates is: [13, 57, 41, 86]\n"
     ]
    }
   ],
   "source": [
    "for i in l1:\n",
    "    if i not in result:\n",
    "        result.append(i)\n",
    "        print(\"the final list after removing duplicates is:\",result)"
   ]
  },
  {
   "cell_type": "code",
   "execution_count": 6,
   "id": "aaba60f1-8e67-49fc-8858-2d64bb5ab515",
   "metadata": {},
   "outputs": [],
   "source": [
    "#19) to count the number of words in a sentence using for loop\n",
    "\n"
   ]
  },
  {
   "cell_type": "code",
   "execution_count": 7,
   "id": "d9b1db9e-ad0b-489f-9a68-87319e8bbbc4",
   "metadata": {},
   "outputs": [],
   "source": [
    "s=str(input)"
   ]
  },
  {
   "cell_type": "code",
   "execution_count": 8,
   "id": "028e4b88-b057-4eda-8df8-547477a16597",
   "metadata": {},
   "outputs": [],
   "source": [
    "s=\" india is a beautiful country\""
   ]
  },
  {
   "cell_type": "code",
   "execution_count": 14,
   "id": "f5cedaa9-b6fb-4d84-ae81-07a6489b88c4",
   "metadata": {},
   "outputs": [
    {
     "name": "stdout",
     "output_type": "stream",
     "text": [
      "the length of the sentence is: 1\n",
      "the length of the sentence is: 2\n",
      "the length of the sentence is: 3\n",
      "the length of the sentence is: 4\n",
      "the length of the sentence is: 5\n",
      "the length of the sentence is: 6\n",
      "the length of the sentence is: 7\n",
      "the length of the sentence is: 8\n",
      "the length of the sentence is: 9\n",
      "the length of the sentence is: 10\n",
      "the length of the sentence is: 11\n",
      "the length of the sentence is: 12\n",
      "the length of the sentence is: 13\n",
      "the length of the sentence is: 14\n",
      "the length of the sentence is: 15\n",
      "the length of the sentence is: 16\n",
      "the length of the sentence is: 17\n",
      "the length of the sentence is: 18\n",
      "the length of the sentence is: 19\n",
      "the length of the sentence is: 20\n",
      "the length of the sentence is: 21\n",
      "the length of the sentence is: 22\n",
      "the length of the sentence is: 23\n",
      "the length of the sentence is: 24\n",
      "the length of the sentence is: 25\n",
      "the length of the sentence is: 26\n",
      "the length of the sentence is: 27\n",
      "the length of the sentence is: 28\n",
      "the length of the sentence is: 29\n"
     ]
    }
   ],
   "source": [
    "count=0\n",
    "for i in s:\n",
    "    count+=1\n",
    "    print(\"the length of the sentence is:\",count)"
   ]
  },
  {
   "cell_type": "code",
   "execution_count": 15,
   "id": "987498ec-242a-424f-afa5-6b294063a06e",
   "metadata": {},
   "outputs": [],
   "source": [
    "#20) to find sum of all odd numbers from 1-50 using loop\n",
    "\n"
   ]
  },
  {
   "cell_type": "code",
   "execution_count": 44,
   "id": "0889abee-0b1c-4f7e-b4b7-532440c44065",
   "metadata": {},
   "outputs": [
    {
     "name": "stdout",
     "output_type": "stream",
     "text": [
      "2\n",
      "6\n",
      "12\n",
      "20\n",
      "30\n",
      "42\n",
      "56\n",
      "72\n",
      "90\n",
      "110\n",
      "132\n",
      "156\n",
      "182\n",
      "210\n",
      "240\n",
      "272\n",
      "306\n",
      "342\n",
      "380\n",
      "420\n",
      "462\n",
      "506\n",
      "552\n",
      "600\n",
      "650\n"
     ]
    }
   ],
   "source": [
    "sum=0\n",
    "for i in range(1,50,2):  \n",
    "    if i%2==1:\n",
    "        sum=sum+i\n",
    "        sum+=1\n",
    "    print(sum)"
   ]
  },
  {
   "cell_type": "code",
   "execution_count": 45,
   "id": "f99ac430-0145-4c97-bf3e-70ff32d39294",
   "metadata": {},
   "outputs": [],
   "source": [
    "#21) to check if a given year is a leap year or not\n",
    "\n"
   ]
  },
  {
   "cell_type": "code",
   "execution_count": 46,
   "id": "a587bb7a-4b36-47ed-9029-6b2a5978f6e7",
   "metadata": {},
   "outputs": [
    {
     "name": "stdout",
     "output_type": "stream",
     "text": [
      "enter a year\n"
     ]
    }
   ],
   "source": [
    "print(\"enter a year\")"
   ]
  },
  {
   "cell_type": "code",
   "execution_count": 47,
   "id": "23a5968a-c27f-4939-9177-4a370c03a1ef",
   "metadata": {},
   "outputs": [
    {
     "name": "stdin",
     "output_type": "stream",
     "text": [
      " 3100\n"
     ]
    }
   ],
   "source": [
    "i=int(input())"
   ]
  },
  {
   "cell_type": "code",
   "execution_count": 48,
   "id": "db180066-2c29-4177-a4e2-5f8f00cfd2b5",
   "metadata": {},
   "outputs": [
    {
     "name": "stdout",
     "output_type": "stream",
     "text": [
      "the given year is a leap year\n"
     ]
    }
   ],
   "source": [
    "if(i%4==0):\n",
    "    print(\"the given year is a leap year\")\n",
    "else:\n",
    "    print(\"the given year is not a leap year\")"
   ]
  },
  {
   "cell_type": "code",
   "execution_count": 49,
   "id": "c64b0f82-29f0-41cd-87f2-6dd4635e6356",
   "metadata": {},
   "outputs": [],
   "source": [
    "#22) to calculate square root of a number\n",
    "\n"
   ]
  },
  {
   "cell_type": "code",
   "execution_count": 50,
   "id": "852a584d-80f4-41fd-ba16-a9830d81612a",
   "metadata": {},
   "outputs": [
    {
     "name": "stdout",
     "output_type": "stream",
     "text": [
      "sqaure 0 0\n",
      "sqaure 1 1\n",
      "sqaure 2 4\n",
      "sqaure 3 9\n",
      "sqaure 4 16\n",
      "sqaure 5 25\n"
     ]
    }
   ],
   "source": [
    "num=6\n",
    "for i in range (0,num):\n",
    "    print(\"sqaure\",i,i**2)\n",
    "    "
   ]
  },
  {
   "cell_type": "code",
   "execution_count": 51,
   "id": "7c5d3c2b-f5d0-4221-b33c-6c5be212f12e",
   "metadata": {},
   "outputs": [],
   "source": [
    "#23) to calculate LCM of two numbers using for loop\n",
    "\n"
   ]
  },
  {
   "cell_type": "code",
   "execution_count": 78,
   "id": "366a3d54-c8f7-43c5-9bdc-bc0c061a51f0",
   "metadata": {},
   "outputs": [],
   "source": [
    "num1=12\n",
    "num2=20"
   ]
  },
  {
   "cell_type": "code",
   "execution_count": 80,
   "id": "58233004-d385-48db-821a-b7c85ca65cb3",
   "metadata": {},
   "outputs": [
    {
     "name": "stdout",
     "output_type": "stream",
     "text": [
      "40.0\n"
     ]
    }
   ],
   "source": [
    "gcd=1\n",
    "for i in range(1, min(num1,num2)):\n",
    "    if num1%i==0 and num2%2==0:\n",
    "        gcd=i\n",
    "lcm=(num1*num2)/gcd        \n",
    "print(lcm)"
   ]
  },
  {
   "cell_type": "code",
   "execution_count": null,
   "id": "a5c18b2f-be9c-40f5-b610-620fc3524bb8",
   "metadata": {},
   "outputs": [],
   "source": [
    "                                       #IF-ELSE problems\n",
    "    \n",
    "    "
   ]
  },
  {
   "cell_type": "code",
   "execution_count": 81,
   "id": "66e29dfb-c7ea-4c58-9293-714c2eec0339",
   "metadata": {},
   "outputs": [],
   "source": [
    "#1) to check if a number is positive,negative or zero\n",
    "\n"
   ]
  },
  {
   "cell_type": "code",
   "execution_count": 82,
   "id": "36f5a9cc-bea1-4816-81ac-fae2ca114807",
   "metadata": {},
   "outputs": [
    {
     "name": "stdout",
     "output_type": "stream",
     "text": [
      "enter a number\n"
     ]
    }
   ],
   "source": [
    "print(\"enter a number\")"
   ]
  },
  {
   "cell_type": "code",
   "execution_count": 83,
   "id": "78d3b8c5-99e3-438e-98fd-d3c0dfbd6685",
   "metadata": {},
   "outputs": [
    {
     "name": "stdin",
     "output_type": "stream",
     "text": [
      " 5\n"
     ]
    }
   ],
   "source": [
    "i=int(input())"
   ]
  },
  {
   "cell_type": "code",
   "execution_count": 84,
   "id": "ffc10b6e-acc6-413f-aa6c-e58433f07bb9",
   "metadata": {},
   "outputs": [
    {
     "name": "stdout",
     "output_type": "stream",
     "text": [
      "the number is positive\n"
     ]
    }
   ],
   "source": [
    "if(i<0):\n",
    "    print(\"the number is negative\")\n",
    "elif(i==0):\n",
    "    print(\"the number is zero\")\n",
    "else:\n",
    "    print(\"the number is positive\")"
   ]
  },
  {
   "cell_type": "code",
   "execution_count": 85,
   "id": "ad2b4cda-8c52-4713-82c6-9a790f459006",
   "metadata": {},
   "outputs": [],
   "source": [
    "#2) to check if a numbr is odd or even\n",
    "\n"
   ]
  },
  {
   "cell_type": "code",
   "execution_count": 86,
   "id": "264d9e98-9067-4156-8ad6-988f43950e5e",
   "metadata": {},
   "outputs": [
    {
     "name": "stdout",
     "output_type": "stream",
     "text": [
      "enter a number\n"
     ]
    }
   ],
   "source": [
    "print(\"enter a number\")"
   ]
  },
  {
   "cell_type": "code",
   "execution_count": 87,
   "id": "52b99903-67f5-4639-92b4-a9a549ed87b4",
   "metadata": {},
   "outputs": [
    {
     "name": "stdin",
     "output_type": "stream",
     "text": [
      " 33\n"
     ]
    }
   ],
   "source": [
    "i=int(input())"
   ]
  },
  {
   "cell_type": "code",
   "execution_count": 88,
   "id": "94c20ed8-c25b-4d59-823b-7887267b470d",
   "metadata": {},
   "outputs": [
    {
     "name": "stdout",
     "output_type": "stream",
     "text": [
      "the given number is odd\n"
     ]
    }
   ],
   "source": [
    "if(i%2==0):\n",
    "    print(\"the given number is even\")\n",
    "else:\n",
    "    print(\"the given number is odd\")\n"
   ]
  },
  {
   "cell_type": "code",
   "execution_count": 89,
   "id": "0918f321-feea-41ef-815b-a9d292db29f2",
   "metadata": {},
   "outputs": [],
   "source": [
    "#3) to use nested if else statement in python\n",
    "\n"
   ]
  },
  {
   "cell_type": "code",
   "execution_count": 90,
   "id": "32310e40-8faa-47ad-85e2-63e6af5f1a4a",
   "metadata": {},
   "outputs": [
    {
     "name": "stdout",
     "output_type": "stream",
     "text": [
      "enter the angle\n"
     ]
    }
   ],
   "source": [
    "print(\"enter the angle\")"
   ]
  },
  {
   "cell_type": "code",
   "execution_count": 91,
   "id": "6f8f48a6-9624-42a0-9dff-f80e747c821c",
   "metadata": {},
   "outputs": [
    {
     "name": "stdin",
     "output_type": "stream",
     "text": [
      " 103\n"
     ]
    }
   ],
   "source": [
    "i=int(input())\n"
   ]
  },
  {
   "cell_type": "code",
   "execution_count": 92,
   "id": "82aed3fb-6147-4ddd-a112-5f282ebc3d3e",
   "metadata": {},
   "outputs": [
    {
     "name": "stdout",
     "output_type": "stream",
     "text": [
      "the angle if obtuse\n"
     ]
    }
   ],
   "source": [
    "if(60<=i<=90):\n",
    "    print(\"the angle is acute\")\n",
    "elif(i==90):\n",
    "    print(\"the angle is a right angle\")\n",
    "elif(90<=i<=180):\n",
    "    print(\"the angle if obtuse\")"
   ]
  },
  {
   "cell_type": "code",
   "execution_count": 93,
   "id": "45d9198b-1532-41e6-a07f-8f55d7493a5d",
   "metadata": {},
   "outputs": [],
   "source": [
    "#4) to find largest of three numbers\n",
    "\n"
   ]
  },
  {
   "cell_type": "code",
   "execution_count": 94,
   "id": "f190b7c4-cd1f-42f3-b229-615b79a1315a",
   "metadata": {},
   "outputs": [
    {
     "name": "stdout",
     "output_type": "stream",
     "text": [
      "enter three numbers\n"
     ]
    }
   ],
   "source": [
    "print(\"enter three numbers\")"
   ]
  },
  {
   "cell_type": "code",
   "execution_count": 95,
   "id": "1d1a78a4-f9b5-49a0-86ce-6bab8ca00bc4",
   "metadata": {},
   "outputs": [],
   "source": [
    "i=12\n",
    "j=16\n",
    "k=19"
   ]
  },
  {
   "cell_type": "code",
   "execution_count": 96,
   "id": "f15a24e8-342d-4a59-a6d1-50fe1e4c9d17",
   "metadata": {},
   "outputs": [
    {
     "name": "stdout",
     "output_type": "stream",
     "text": [
      "the greatest number is k\n"
     ]
    }
   ],
   "source": [
    "if(i>=j) and (i>=k):\n",
    "    print(\" the greatest number is i\")\n",
    "elif (j>=i) and (j>=k):\n",
    "    print(\"the greatest number is j\")\n",
    "else:\n",
    "    print(\"the greatest number is k\")"
   ]
  },
  {
   "cell_type": "code",
   "execution_count": 97,
   "id": "a98f7371-8d3f-4d70-bfb5-8917d780e19c",
   "metadata": {},
   "outputs": [],
   "source": [
    "#5)to calculate the absolute value using if else\n",
    "\n"
   ]
  },
  {
   "cell_type": "code",
   "execution_count": 98,
   "id": "5152b60c-2286-4438-a8c6-624c13e90d67",
   "metadata": {},
   "outputs": [
    {
     "name": "stdout",
     "output_type": "stream",
     "text": [
      "enter the absolute number\n"
     ]
    }
   ],
   "source": [
    "print(\"enter the absolute number\")"
   ]
  },
  {
   "cell_type": "code",
   "execution_count": 111,
   "id": "0099baf1-0f33-456b-bb5b-8ebfe80e4f94",
   "metadata": {},
   "outputs": [
    {
     "name": "stdin",
     "output_type": "stream",
     "text": [
      " -3\n"
     ]
    }
   ],
   "source": [
    "i=int(input())"
   ]
  },
  {
   "cell_type": "code",
   "execution_count": 107,
   "id": "ea820a87-e9ca-404f-8e3b-9f55ca23fbf4",
   "metadata": {},
   "outputs": [
    {
     "name": "stdout",
     "output_type": "stream",
     "text": [
      "the absolute value is: 3\n"
     ]
    }
   ],
   "source": [
    "if(i<0):\n",
    "    value= i*-1\n",
    "    print(\"the absolute value is:\", value)\n",
    "else:\n",
    "    print(\"the absolute value is\")"
   ]
  },
  {
   "cell_type": "code",
   "execution_count": 112,
   "id": "6cfe669e-9828-4281-9a41-63e2d8893dae",
   "metadata": {},
   "outputs": [],
   "source": [
    "#6) to check if a given character is vowel or consonant\n",
    "\n"
   ]
  },
  {
   "cell_type": "code",
   "execution_count": 113,
   "id": "5be6db7a-fb5e-4707-89e4-3c637d252a5c",
   "metadata": {},
   "outputs": [
    {
     "name": "stdout",
     "output_type": "stream",
     "text": [
      "enter a character\n"
     ]
    }
   ],
   "source": [
    "print(\"enter a character\")"
   ]
  },
  {
   "cell_type": "code",
   "execution_count": 114,
   "id": "c914910b-e97b-4cdb-8594-b5d6fc23002b",
   "metadata": {},
   "outputs": [],
   "source": [
    "s=str(input)"
   ]
  },
  {
   "cell_type": "code",
   "execution_count": 115,
   "id": "247a9050-563e-4f87-9f09-b4dab90767bb",
   "metadata": {},
   "outputs": [],
   "source": [
    "s='z'"
   ]
  },
  {
   "cell_type": "code",
   "execution_count": 116,
   "id": "37444e9f-81d8-46fe-9708-74c7dbc3cd1c",
   "metadata": {},
   "outputs": [
    {
     "name": "stdout",
     "output_type": "stream",
     "text": [
      "the given number is a consonant\n"
     ]
    }
   ],
   "source": [
    "if(s=='a' or s=='i' or s=='o' or s=='e' or s=='u'):\n",
    "    print(\"the given number is a vowel\")\n",
    "else:\n",
    "    print(\"the given number is a consonant\")"
   ]
  },
  {
   "cell_type": "code",
   "execution_count": 117,
   "id": "a10d91c9-f22b-4b04-8325-471261e9e2bb",
   "metadata": {},
   "outputs": [],
   "source": [
    "#7) to check if a person is eligible to vote or not\n",
    "\n"
   ]
  },
  {
   "cell_type": "code",
   "execution_count": 118,
   "id": "60f7ce8f-9da9-4446-8389-5bcb5e556636",
   "metadata": {},
   "outputs": [
    {
     "name": "stdin",
     "output_type": "stream",
     "text": [
      "enter the age to vote 18\n"
     ]
    }
   ],
   "source": [
    "i=int(input(\"enter the age to vote\"))"
   ]
  },
  {
   "cell_type": "code",
   "execution_count": 119,
   "id": "5a49c32d-148f-422d-9a0b-fed14fb6db1f",
   "metadata": {},
   "outputs": [
    {
     "name": "stdin",
     "output_type": "stream",
     "text": [
      "enter your age 27\n"
     ]
    }
   ],
   "source": [
    "x=int(input(\"enter your age\"))"
   ]
  },
  {
   "cell_type": "code",
   "execution_count": 120,
   "id": "a4d54f68-ec1b-4adc-bb30-b829dbbf178e",
   "metadata": {},
   "outputs": [
    {
     "name": "stdout",
     "output_type": "stream",
     "text": [
      "you are eligible to vote\n"
     ]
    }
   ],
   "source": [
    "if(i<x):\n",
    "    print(\"you are eligible to vote\")\n",
    "else:\n",
    "    print(\"you are not eligiblr to vote\")\n",
    "    "
   ]
  },
  {
   "cell_type": "code",
   "execution_count": 121,
   "id": "8bee1393-ede5-4a68-8d69-214d3301221e",
   "metadata": {},
   "outputs": [],
   "source": [
    "#8) to calculate the discount on a particular item\n",
    "\n"
   ]
  },
  {
   "cell_type": "code",
   "execution_count": 122,
   "id": "468e3247-9d92-45ab-b5da-b6f38a5bc7ab",
   "metadata": {},
   "outputs": [
    {
     "name": "stdin",
     "output_type": "stream",
     "text": [
      "enter the amount 5000\n"
     ]
    }
   ],
   "source": [
    "amt=int(input(\"enter the amount\"))"
   ]
  },
  {
   "cell_type": "code",
   "execution_count": 123,
   "id": "0148663d-641a-4322-8d75-68d63fa55813",
   "metadata": {},
   "outputs": [
    {
     "name": "stdout",
     "output_type": "stream",
     "text": [
      "discount=: 250.0\n",
      "net pay=: 4750.0\n"
     ]
    }
   ],
   "source": [
    "if(amt>0):\n",
    "    if(amt<=5000):\n",
    "        disc=amt*0.05\n",
    "    elif(amt<=10000):\n",
    "        disc=amt*0.10\n",
    "    elif(amt<=25000):\n",
    "        disc=amt*0.15\n",
    "    else:\n",
    "        disc=amt*0.20\n",
    "    print(\"discount=:\",disc)\n",
    "    print(\"net pay=:\",amt-disc)\n",
    "                \n",
    "        "
   ]
  },
  {
   "cell_type": "code",
   "execution_count": 124,
   "id": "bae52585-62dd-45f5-bf99-fd144eab0408",
   "metadata": {},
   "outputs": [],
   "source": [
    "#9) to check if a number is within a specified range\n",
    "\n"
   ]
  },
  {
   "cell_type": "code",
   "execution_count": 126,
   "id": "ac2af328-ecab-45e4-900f-9320e03085a2",
   "metadata": {},
   "outputs": [
    {
     "name": "stdin",
     "output_type": "stream",
     "text": [
      "enter a number 78\n"
     ]
    }
   ],
   "source": [
    "i=int(input(\"enter a number\"))"
   ]
  },
  {
   "cell_type": "code",
   "execution_count": 128,
   "id": "92272978-1414-4a89-ac3b-6d907a7916b5",
   "metadata": {},
   "outputs": [
    {
     "name": "stdout",
     "output_type": "stream",
     "text": [
      "false\n"
     ]
    }
   ],
   "source": [
    "for x in range(1,70):\n",
    "    if i==x:\n",
    "        print(\"true\")\n",
    "        break\n",
    "else:\n",
    "    print(\"false\")"
   ]
  },
  {
   "cell_type": "code",
   "execution_count": 129,
   "id": "e0d4f90d-82f5-4f2a-ac46-4557bb5f87fb",
   "metadata": {},
   "outputs": [],
   "source": [
    "#10) to determine grades of student using ifelse\n",
    "\n"
   ]
  },
  {
   "cell_type": "code",
   "execution_count": 130,
   "id": "1a738efd-4d8a-4fa4-9a20-fa673b8f2999",
   "metadata": {},
   "outputs": [
    {
     "name": "stdin",
     "output_type": "stream",
     "text": [
      "enter the grade of student 67\n"
     ]
    }
   ],
   "source": [
    "i=int(input(\"enter the grade of student\"))"
   ]
  },
  {
   "cell_type": "code",
   "execution_count": 131,
   "id": "1d4f2e07-354f-4a74-926f-c81d22b0994d",
   "metadata": {},
   "outputs": [
    {
     "name": "stdout",
     "output_type": "stream",
     "text": [
      "D\n"
     ]
    }
   ],
   "source": [
    "if(90<=i<=100):\n",
    "    print(\"A\")\n",
    "elif(80<=i<=90):\n",
    "    print(\"B\")\n",
    "elif(70<=i<=80):\n",
    "    print(\"C\")\n",
    "elif(60<=i<=70):\n",
    "    print(\"D\")\n",
    "elif(50<=i<=60):\n",
    "    print(\"E\")\n",
    "elif(40<=i<=50):\n",
    "    print(\"F\")\n",
    "else:\n",
    "    print(\"FAIL\")\n"
   ]
  },
  {
   "cell_type": "code",
   "execution_count": 132,
   "id": "5a3d19b1-f957-4a6c-af3a-450d12a07cb8",
   "metadata": {},
   "outputs": [],
   "source": [
    "#11) to check if a string is empty or not\n",
    "\n"
   ]
  },
  {
   "cell_type": "code",
   "execution_count": 133,
   "id": "a2f7d62b-3293-4e65-a246-3c470ef6c5b4",
   "metadata": {},
   "outputs": [],
   "source": [
    "s=str(input)"
   ]
  },
  {
   "cell_type": "code",
   "execution_count": 134,
   "id": "2ce66fd1-a6fc-4d45-a623-56e523a451fc",
   "metadata": {},
   "outputs": [],
   "source": [
    "s=\"simranjeet\""
   ]
  },
  {
   "cell_type": "code",
   "execution_count": 135,
   "id": "7d59ddc1-0cc3-453f-9221-870dc92d231d",
   "metadata": {},
   "outputs": [
    {
     "name": "stdout",
     "output_type": "stream",
     "text": [
      "the string is not empty\n"
     ]
    }
   ],
   "source": [
    "if s==\"\":\n",
    "    print(\"the string is empty\")\n",
    "else:\n",
    "    print(\"the string is not empty\")"
   ]
  },
  {
   "cell_type": "code",
   "execution_count": 136,
   "id": "e560d6ff-e14f-499c-b41b-3777c1188f58",
   "metadata": {},
   "outputs": [],
   "source": [
    "#12) to identify a triangle based on input values\n",
    "\n"
   ]
  },
  {
   "cell_type": "code",
   "execution_count": 142,
   "id": "4c84313f-608b-4104-b463-6687942ec8e1",
   "metadata": {},
   "outputs": [
    {
     "name": "stdin",
     "output_type": "stream",
     "text": [
      "enetr the angle of triangle 60\n"
     ]
    }
   ],
   "source": [
    "x=int(input(\"enetr the angle of triangle\"))"
   ]
  },
  {
   "cell_type": "code",
   "execution_count": 143,
   "id": "8da41e11-be6b-44bb-a77f-cc3e5401492c",
   "metadata": {},
   "outputs": [
    {
     "name": "stdin",
     "output_type": "stream",
     "text": [
      "enetr the angle of triangle 70\n"
     ]
    }
   ],
   "source": [
    "y=int(input(\"enetr the angle of triangle\"))"
   ]
  },
  {
   "cell_type": "code",
   "execution_count": 144,
   "id": "807fd7f8-0290-448a-8680-ae378373f315",
   "metadata": {},
   "outputs": [
    {
     "name": "stdin",
     "output_type": "stream",
     "text": [
      "enetr the angle of triangle 80\n"
     ]
    }
   ],
   "source": [
    "z=int(input(\"enetr the angle of triangle\"))"
   ]
  },
  {
   "cell_type": "code",
   "execution_count": 145,
   "id": "be306f2a-a5a7-4217-8a2d-31b38bd3be52",
   "metadata": {},
   "outputs": [
    {
     "name": "stdout",
     "output_type": "stream",
     "text": [
      "the triangle is scalene\n"
     ]
    }
   ],
   "source": [
    "if(x==y==z):\n",
    "    print(\"the triangle is equilateral\")\n",
    "elif(x==y or y==z or z==x):\n",
    "    print(\"the triangle is isosceles\")\n",
    "else:\n",
    "    print(\"the triangle is scalene\")\n",
    "    "
   ]
  },
  {
   "cell_type": "code",
   "execution_count": 146,
   "id": "c6b86a2b-8a36-4cff-8c12-6ba817274489",
   "metadata": {},
   "outputs": [],
   "source": [
    "#13) to determine which day of week it is\n",
    "\n"
   ]
  },
  {
   "cell_type": "code",
   "execution_count": 147,
   "id": "9e44790f-a051-4e9d-9080-57dcc28cd510",
   "metadata": {},
   "outputs": [
    {
     "name": "stdin",
     "output_type": "stream",
     "text": [
      "enter a number for week-day 4\n"
     ]
    }
   ],
   "source": [
    "i=int(input(\"enter a number for week-day\"))"
   ]
  },
  {
   "cell_type": "code",
   "execution_count": 148,
   "id": "1cf63190-4ad4-4a14-af16-1f43cc3288e2",
   "metadata": {},
   "outputs": [
    {
     "name": "stdout",
     "output_type": "stream",
     "text": [
      "Wednesday\n"
     ]
    }
   ],
   "source": [
    "if(i==1):\n",
    "    print(\"Sunday\")\n",
    "elif(i==2):\n",
    "    print(\"Monday\")\n",
    "elif(i==3):\n",
    "    print(\"Tuesday\")\n",
    "elif(i==4):\n",
    "    print(\"Wednesday\")\n",
    "elif(i==5):\n",
    "    print(\"Thursday\")\n",
    "elif(i==6):\n",
    "    print(\"Friday\")\n",
    "else:\n",
    "    print(\"Saturday\")\n",
    "    "
   ]
  },
  {
   "cell_type": "code",
   "execution_count": 149,
   "id": "0215b110-ec0e-4b4f-94ef-ca6bccc6702d",
   "metadata": {},
   "outputs": [],
   "source": [
    "#14) to check if a given year is a leap year or not\n",
    "\n"
   ]
  },
  {
   "cell_type": "code",
   "execution_count": 150,
   "id": "71a59569-a38d-4560-a7bc-961d24ce86c0",
   "metadata": {},
   "outputs": [
    {
     "name": "stdin",
     "output_type": "stream",
     "text": [
      "enter the year 1997\n"
     ]
    }
   ],
   "source": [
    "i=int(input(\"enter the year\"))"
   ]
  },
  {
   "cell_type": "code",
   "execution_count": 152,
   "id": "e3180878-11dc-49ea-bef0-965e84889182",
   "metadata": {},
   "outputs": [
    {
     "name": "stdout",
     "output_type": "stream",
     "text": [
      "the given year is not a leap year\n"
     ]
    }
   ],
   "source": [
    "if(i%4==0):\n",
    "    print(\"the given year is a leap year\")\n",
    "else:\n",
    "    print(\"the given year is not a leap year\")"
   ]
  },
  {
   "cell_type": "code",
   "execution_count": 153,
   "id": "5872ffc3-348e-4317-bdbd-88c785cd94c8",
   "metadata": {},
   "outputs": [],
   "source": [
    "#16) eligibility of a person for senior citizen discount\n",
    "\n"
   ]
  },
  {
   "cell_type": "code",
   "execution_count": 155,
   "id": "aca160bb-37e6-4389-896d-6371a3c3d56a",
   "metadata": {},
   "outputs": [
    {
     "name": "stdin",
     "output_type": "stream",
     "text": [
      "enter the age of person 55\n"
     ]
    }
   ],
   "source": [
    "age=int(input(\"enter the age of person\"))"
   ]
  },
  {
   "cell_type": "code",
   "execution_count": 157,
   "id": "afa49600-6311-4e19-abdf-b5f5636128de",
   "metadata": {},
   "outputs": [
    {
     "name": "stdout",
     "output_type": "stream",
     "text": [
      "discount=: 2.75\n"
     ]
    }
   ],
   "source": [
    "if(age>0):\n",
    "    if(50<=age<=60):\n",
    "        disc=age*0.05\n",
    "    elif(60<=age<=70):\n",
    "        disc=age*0.10\n",
    "    elif(70<=age<=80):\n",
    "        disc=age*0.15\n",
    "    else:\n",
    "        disc=age*0.20\n",
    "    print(\"discount=:\",disc)\n",
    "   \n",
    "                \n",
    "        "
   ]
  },
  {
   "cell_type": "code",
   "execution_count": 158,
   "id": "53cce10e-b9b9-4c99-83be-980c08237260",
   "metadata": {},
   "outputs": [],
   "source": [
    "#17) to determine if a sentence is uppercase or lowercase\n",
    "\n"
   ]
  },
  {
   "cell_type": "code",
   "execution_count": 159,
   "id": "b695c363-fb55-4862-ae2a-2f0bff6d09f0",
   "metadata": {},
   "outputs": [],
   "source": [
    "s=str(input)"
   ]
  },
  {
   "cell_type": "code",
   "execution_count": 162,
   "id": "95787d65-a7a4-48f2-93ee-a5b9eb28ba89",
   "metadata": {},
   "outputs": [],
   "source": [
    "s=\"A\""
   ]
  },
  {
   "cell_type": "code",
   "execution_count": 163,
   "id": "e1684245-9e35-457d-9bdf-4d347eba530d",
   "metadata": {},
   "outputs": [
    {
     "name": "stdout",
     "output_type": "stream",
     "text": [
      "the character is uppercase\n"
     ]
    }
   ],
   "source": [
    "if(ord(s)<96):\n",
    "    print(\"the character is uppercase\")\n",
    "elif(ord(s)<122):\n",
    "    print(\"the character is lowercase\")\n",
    "elif(ord(s)=='!@#$%^&*'):\n",
    "     print(\"the character is special\")"
   ]
  },
  {
   "cell_type": "code",
   "execution_count": 164,
   "id": "8fb23f80-1270-48b1-970b-54523fa700e1",
   "metadata": {},
   "outputs": [],
   "source": [
    "#18) to find the roots of a quadratic equation\n",
    "\n"
   ]
  },
  {
   "cell_type": "code",
   "execution_count": 165,
   "id": "e765ba3c-aa2b-4a7d-9484-3e43c026ebd0",
   "metadata": {},
   "outputs": [
    {
     "name": "stdout",
     "output_type": "stream",
     "text": [
      "equation: ax^2+bx+c\n"
     ]
    }
   ],
   "source": [
    "print(\"equation: ax^2+bx+c\")"
   ]
  },
  {
   "cell_type": "code",
   "execution_count": 166,
   "id": "4c6179ea-45ba-42a3-b951-7ef90de948d3",
   "metadata": {},
   "outputs": [
    {
     "name": "stdin",
     "output_type": "stream",
     "text": [
      "enter the number 1\n"
     ]
    }
   ],
   "source": [
    "a=int(input(\"enter the number\"))"
   ]
  },
  {
   "cell_type": "code",
   "execution_count": 167,
   "id": "c05a2131-9f12-4b4b-897d-12f31a2dc083",
   "metadata": {},
   "outputs": [
    {
     "name": "stdin",
     "output_type": "stream",
     "text": [
      "enter the number -5\n"
     ]
    }
   ],
   "source": [
    "b=int(input(\"enter the number\"))"
   ]
  },
  {
   "cell_type": "code",
   "execution_count": 168,
   "id": "420b5942-20e5-466e-8185-e5cfbfbbd6be",
   "metadata": {},
   "outputs": [
    {
     "name": "stdin",
     "output_type": "stream",
     "text": [
      "enter the number 6\n"
     ]
    }
   ],
   "source": [
    "c=int(input(\"enter the number\"))"
   ]
  },
  {
   "cell_type": "code",
   "execution_count": 169,
   "id": "ad163155-a74f-4019-8c80-0395c63777fd",
   "metadata": {},
   "outputs": [],
   "source": [
    "d=b**2-4*a*c"
   ]
  },
  {
   "cell_type": "code",
   "execution_count": 170,
   "id": "6a2f2ef8-a9f3-4503-953a-54af70f85c8c",
   "metadata": {},
   "outputs": [],
   "source": [
    "e=d**0.5"
   ]
  },
  {
   "cell_type": "code",
   "execution_count": 171,
   "id": "ea96da19-9243-4a14-bf38-73763089dc1b",
   "metadata": {},
   "outputs": [
    {
     "name": "stdout",
     "output_type": "stream",
     "text": [
      "the first root is: 3\n",
      "the second root is: 2\n"
     ]
    }
   ],
   "source": [
    "if(d<0):\n",
    "    print(\"the roots are imagianry\")\n",
    "else:\n",
    "    r1=(-b+e)/2*a\n",
    "    r2=(-b-e)/2*a\n",
    "    print(\"the first root is:\",round( r1))\n",
    "    print(\"the second root is:\",round(r2))"
   ]
  },
  {
   "cell_type": "code",
   "execution_count": 172,
   "id": "a469b876-e6a3-4e2f-bc45-e9395730cb7e",
   "metadata": {},
   "outputs": [],
   "source": [
    "#19) to check if a year is century year or not\n",
    "\n"
   ]
  },
  {
   "cell_type": "code",
   "execution_count": 173,
   "id": "7e953f44-b6ba-4290-9a46-dd21f35c25d6",
   "metadata": {},
   "outputs": [
    {
     "name": "stdin",
     "output_type": "stream",
     "text": [
      "enter the year 2100\n"
     ]
    }
   ],
   "source": [
    "i=int(input(\"enter the year\"))"
   ]
  },
  {
   "cell_type": "code",
   "execution_count": 174,
   "id": "7f8a6085-0898-4485-80f3-13a42236585a",
   "metadata": {},
   "outputs": [
    {
     "name": "stdout",
     "output_type": "stream",
     "text": [
      "the year is a century year\n"
     ]
    }
   ],
   "source": [
    "if(i%100==0):\n",
    "    print(\"the year is a century year\")\n",
    "else:\n",
    "    print(\"the year is not a century year\")"
   ]
  },
  {
   "cell_type": "code",
   "execution_count": 175,
   "id": "f9f7b78a-0e36-4472-9895-97fe1d65f0b5",
   "metadata": {},
   "outputs": [],
   "source": [
    "#20) to determine if a number is perfect square or not\n",
    "\n"
   ]
  },
  {
   "cell_type": "code",
   "execution_count": 196,
   "id": "ed48b070-5104-4cde-aee2-d7cff7c27ba9",
   "metadata": {},
   "outputs": [
    {
     "name": "stdin",
     "output_type": "stream",
     "text": [
      "enter a number 47\n"
     ]
    }
   ],
   "source": [
    "num=int(input(\"enter a number\"))"
   ]
  },
  {
   "cell_type": "code",
   "execution_count": 197,
   "id": "016c1cc0-6140-452f-89b9-2ee8855053e8",
   "metadata": {},
   "outputs": [
    {
     "name": "stdout",
     "output_type": "stream",
     "text": [
      "the number is not a perfect square\n"
     ]
    }
   ],
   "source": [
    "for i in range(1, i*i<=num):\n",
    "    if(num%i==0 & num/i==1):\n",
    "        print(\"the number is a perfect square\")\n",
    "else:\n",
    "        print(\"the number is not a perfect square\")"
   ]
  },
  {
   "cell_type": "code",
   "execution_count": 198,
   "id": "e19e42bf-ba05-43e1-a659-78a765eda507",
   "metadata": {},
   "outputs": [],
   "source": [
    "#22) to calculate BMI of a person\n",
    "\n"
   ]
  },
  {
   "cell_type": "code",
   "execution_count": 216,
   "id": "6f7af54d-ce67-473e-be9c-031f1abc4234",
   "metadata": {},
   "outputs": [
    {
     "name": "stdin",
     "output_type": "stream",
     "text": [
      "enter the height 1.9\n"
     ]
    }
   ],
   "source": [
    "h=float(input(\"enter the height\"))"
   ]
  },
  {
   "cell_type": "code",
   "execution_count": 217,
   "id": "c3f3c396-74ca-4c72-85b0-abee905fc501",
   "metadata": {},
   "outputs": [
    {
     "name": "stdin",
     "output_type": "stream",
     "text": [
      "enetr the weight 80\n"
     ]
    }
   ],
   "source": [
    "w=int(input(\"enetr the weight\"))"
   ]
  },
  {
   "cell_type": "code",
   "execution_count": 218,
   "id": "ac2b5f86-26f7-4c55-abec-44522dfe17a7",
   "metadata": {},
   "outputs": [],
   "source": [
    "BMI= w/float(h*h)"
   ]
  },
  {
   "cell_type": "code",
   "execution_count": 219,
   "id": "d07e0dcc-3242-4261-b6e4-ff0dd1e45ecd",
   "metadata": {},
   "outputs": [
    {
     "name": "stdout",
     "output_type": "stream",
     "text": [
      "normal\n"
     ]
    }
   ],
   "source": [
    "if(BMI<18.5):\n",
    "    print(\"underweight\")\n",
    "elif(18.5<=BMI<=25):\n",
    "    print(\"normal\")\n",
    "elif(25<=BMI<=30):\n",
    "    print(\"overweight\")\n",
    "elif(BMI>=30):  \n",
    "    print(\"obese\")"
   ]
  },
  {
   "cell_type": "code",
   "execution_count": 220,
   "id": "f630aa8c-1bb2-45b1-a358-fcaf323da490",
   "metadata": {},
   "outputs": [],
   "source": [
    "#23)to determine if a number is prime or not\n",
    "\n"
   ]
  },
  {
   "cell_type": "code",
   "execution_count": 221,
   "id": "40c37697-3e33-466d-8836-7b93d709dff9",
   "metadata": {},
   "outputs": [
    {
     "name": "stdin",
     "output_type": "stream",
     "text": [
      "enter a  number 11\n"
     ]
    }
   ],
   "source": [
    "i=int(input(\"enter a  number\"))"
   ]
  },
  {
   "cell_type": "code",
   "execution_count": 222,
   "id": "a32bf372-608a-45b6-ac19-29cba1fe9898",
   "metadata": {},
   "outputs": [
    {
     "name": "stdout",
     "output_type": "stream",
     "text": [
      "11 is a prime number\n",
      "11 is a prime number\n",
      "11 is a prime number\n",
      "11 is a prime number\n"
     ]
    }
   ],
   "source": [
    "if(i>0):\n",
    "    for x in range (2, int(i/2)+1):\n",
    "        if(i%x==0):\n",
    "            print(i,\"is not a prime number\")\n",
    "            break\n",
    "        else:\n",
    "            print(i,\"is a prime number\")   "
   ]
  },
  {
   "cell_type": "code",
   "execution_count": 223,
   "id": "86bacdee-c406-46b1-8ddc-34df5fcf6c30",
   "metadata": {},
   "outputs": [],
   "source": [
    "#24) to use filter() to filter elements from list\n",
    "\n"
   ]
  },
  {
   "cell_type": "code",
   "execution_count": 228,
   "id": "bf844d3f-bdac-4ac5-ac6c-68f5acc6e49b",
   "metadata": {},
   "outputs": [],
   "source": [
    "s=str(input)"
   ]
  },
  {
   "cell_type": "code",
   "execution_count": 229,
   "id": "6896b073-dbcc-4641-ac54-bd00dc6b1398",
   "metadata": {},
   "outputs": [],
   "source": [
    "s=\"Simranjeet\""
   ]
  },
  {
   "cell_type": "code",
   "execution_count": 230,
   "id": "2f29b820-f933-46f8-8b63-2b535d99cd16",
   "metadata": {},
   "outputs": [
    {
     "data": {
      "text/plain": [
       "['i', 'm', 'r', 'a', 'n', 'j', 'e', 'e', 't']"
      ]
     },
     "execution_count": 230,
     "metadata": {},
     "output_type": "execute_result"
    }
   ],
   "source": [
    "list(filter(lambda a: a.islower(), s))"
   ]
  },
  {
   "cell_type": "code",
   "execution_count": 231,
   "id": "e3f3aede-d26d-454c-afa8-319ab2b04c41",
   "metadata": {},
   "outputs": [],
   "source": [
    "                                            # MAP based problems\n",
    "    \n",
    "    "
   ]
  },
  {
   "cell_type": "code",
   "execution_count": 232,
   "id": "d9f94623-d042-42ba-a7b3-511ef1dcfcc5",
   "metadata": {},
   "outputs": [],
   "source": [
    "#1) to demonstrate use of map() to each element of an iterable\n",
    "\n"
   ]
  },
  {
   "cell_type": "code",
   "execution_count": 267,
   "id": "f9dae0fc-7727-4fb5-b03f-af460da905fe",
   "metadata": {},
   "outputs": [],
   "source": [
    "i=(1,2,3,4,5)"
   ]
  },
  {
   "cell_type": "code",
   "execution_count": 268,
   "id": "613622cc-7f87-48ec-9042-aaed747e160b",
   "metadata": {},
   "outputs": [],
   "source": [
    "result=map(lambda x:x+x,i)"
   ]
  },
  {
   "cell_type": "code",
   "execution_count": 269,
   "id": "3b641f16-31bf-4a1c-a1a3-6e51995d6ce3",
   "metadata": {},
   "outputs": [
    {
     "name": "stdout",
     "output_type": "stream",
     "text": [
      "[2, 4, 6, 8, 10]\n"
     ]
    }
   ],
   "source": [
    "print(list(result))"
   ]
  },
  {
   "cell_type": "code",
   "execution_count": 270,
   "id": "cd38a49f-32ca-4508-abf8-141e1c2df2c5",
   "metadata": {},
   "outputs": [],
   "source": [
    "#2) to use map() to square each element\n",
    "\n"
   ]
  },
  {
   "cell_type": "code",
   "execution_count": 271,
   "id": "ed7015ec-623a-4f0c-b22a-0c14f72f1848",
   "metadata": {},
   "outputs": [],
   "source": [
    "i=(1,2,3,4,5)"
   ]
  },
  {
   "cell_type": "code",
   "execution_count": 272,
   "id": "77ca92b6-31aa-462c-8bb2-f714d9a2f7e8",
   "metadata": {},
   "outputs": [],
   "source": [
    "result=map(lambda x:x*x,i)"
   ]
  },
  {
   "cell_type": "code",
   "execution_count": 273,
   "id": "62afd743-88b6-4baf-a793-b8097621bb99",
   "metadata": {},
   "outputs": [
    {
     "name": "stdout",
     "output_type": "stream",
     "text": [
      "[1, 4, 9, 16, 25]\n"
     ]
    }
   ],
   "source": [
    "print(list(result))"
   ]
  },
  {
   "cell_type": "code",
   "execution_count": 274,
   "id": "38bc37f3-d3d5-4e8b-af5f-9eb2a009c7ce",
   "metadata": {},
   "outputs": [],
   "source": [
    "#3) to use map() to convert a list of names to uppercase\n",
    "\n"
   ]
  },
  {
   "cell_type": "code",
   "execution_count": 297,
   "id": "ba60e797-6d4e-4ffb-b463-c41733d6cf1a",
   "metadata": {},
   "outputs": [],
   "source": [
    "s='sunita'"
   ]
  },
  {
   "cell_type": "code",
   "execution_count": 307,
   "id": "b58a4fbe-7be4-448b-8676-c69571b62151",
   "metadata": {},
   "outputs": [],
   "source": [
    "result=map(lambda a: a.upper(), s)"
   ]
  },
  {
   "cell_type": "code",
   "execution_count": 308,
   "id": "4b97fdc6-be8c-484c-ac6b-5b7c7964f4f9",
   "metadata": {},
   "outputs": [
    {
     "name": "stdout",
     "output_type": "stream",
     "text": [
      "['S', 'U', 'N', 'I', 'T', 'A']\n"
     ]
    }
   ],
   "source": [
    "print(list(result))"
   ]
  },
  {
   "cell_type": "code",
   "execution_count": null,
   "id": "f9b38951-93ec-4e83-8e60-d8bdf710e328",
   "metadata": {},
   "outputs": [],
   "source": [
    "#4) use map() to calculate the length of each word in string\n",
    "\n"
   ]
  },
  {
   "cell_type": "code",
   "execution_count": 316,
   "id": "d2d0ff2e-8c85-464a-b0e7-5d2470e838b4",
   "metadata": {},
   "outputs": [],
   "source": [
    "s='simranjeet'"
   ]
  },
  {
   "cell_type": "code",
   "execution_count": 317,
   "id": "adc81a74-4e35-44c9-80a0-46da68322af9",
   "metadata": {},
   "outputs": [],
   "source": [
    "result=map(lambda a: len(s), s)"
   ]
  },
  {
   "cell_type": "code",
   "execution_count": 318,
   "id": "8a006909-63d1-441a-8b11-cd0e932cab42",
   "metadata": {},
   "outputs": [
    {
     "name": "stdout",
     "output_type": "stream",
     "text": [
      "[10, 10, 10, 10, 10, 10, 10, 10, 10, 10]\n"
     ]
    }
   ],
   "source": [
    "print(list(result))"
   ]
  },
  {
   "cell_type": "code",
   "execution_count": 319,
   "id": "4391feb0-3437-4968-a882-2e35848b748a",
   "metadata": {},
   "outputs": [],
   "source": [
    "#5) use map() to convert celsius temperature to fahrenheit\n",
    "\n"
   ]
  },
  {
   "cell_type": "code",
   "execution_count": 364,
   "id": "66bd2743-1b0a-4213-a1ab-c4d4a4c78720",
   "metadata": {},
   "outputs": [],
   "source": [
    "c_list=[25,27]"
   ]
  },
  {
   "cell_type": "code",
   "execution_count": 371,
   "id": "8f823275-8aa3-4fd9-af54-7d20ff31e80e",
   "metadata": {},
   "outputs": [],
   "source": [
    "result=map(lambda a: ((9.0/5.0)/(c+32)), c_list)"
   ]
  },
  {
   "cell_type": "code",
   "execution_count": 372,
   "id": "b23fb11d-46c9-41d7-8c17-7ac7f3de0371",
   "metadata": {},
   "outputs": [
    {
     "name": "stdout",
     "output_type": "stream",
     "text": [
      "[0.04736842105263158, 0.04736842105263158]\n"
     ]
    }
   ],
   "source": [
    "print(list(result))"
   ]
  },
  {
   "cell_type": "code",
   "execution_count": 373,
   "id": "d6547152-3594-43c6-b79d-c7e691670b56",
   "metadata": {},
   "outputs": [],
   "source": [
    "#6) map() to round each element of float to nearest integer\n",
    "\n"
   ]
  },
  {
   "cell_type": "code",
   "execution_count": 381,
   "id": "048a30d9-c39e-42d8-a344-8204860cd8a9",
   "metadata": {},
   "outputs": [],
   "source": [
    "i=[3.142, 8.68]"
   ]
  },
  {
   "cell_type": "code",
   "execution_count": 382,
   "id": "3049616d-d609-4893-82a4-78a28776cb25",
   "metadata": {},
   "outputs": [],
   "source": [
    "second=range(2)"
   ]
  },
  {
   "cell_type": "code",
   "execution_count": 383,
   "id": "40472716-0f63-4217-9298-f611372ddcb4",
   "metadata": {},
   "outputs": [],
   "source": [
    "result=list(map(round, i, second))"
   ]
  },
  {
   "cell_type": "code",
   "execution_count": 384,
   "id": "72537c28-1084-4594-a25c-2e2974de0165",
   "metadata": {},
   "outputs": [
    {
     "name": "stdout",
     "output_type": "stream",
     "text": [
      "[3.0, 8.7]\n"
     ]
    }
   ],
   "source": [
    "print(list(result))"
   ]
  },
  {
   "cell_type": "code",
   "execution_count": 385,
   "id": "23dc2799-b1b3-4f72-8fd0-1f16d4f4ab48",
   "metadata": {},
   "outputs": [],
   "source": [
    "                                               #REDUCE() based problems\n",
    "    \n",
    "    "
   ]
  },
  {
   "cell_type": "code",
   "execution_count": 386,
   "id": "fe2272ab-bff5-42b8-8ee3-59f7eb5e780b",
   "metadata": {},
   "outputs": [],
   "source": [
    "#1) basic usage of reduce()\n",
    "\n"
   ]
  },
  {
   "cell_type": "code",
   "execution_count": 395,
   "id": "fe60b12d-e08f-4026-a862-9accd5b887d1",
   "metadata": {},
   "outputs": [],
   "source": [
    "from functools import reduce"
   ]
  },
  {
   "cell_type": "code",
   "execution_count": 387,
   "id": "669c3732-5e34-41a5-b22f-14ec0fbf2e83",
   "metadata": {},
   "outputs": [],
   "source": [
    "l=[2,3,4,5]"
   ]
  },
  {
   "cell_type": "code",
   "execution_count": 396,
   "id": "d1235798-b155-41ef-8bf0-988029d8a383",
   "metadata": {},
   "outputs": [],
   "source": [
    "prod= reduce(lambda a,b :a*b ,(i for i in l if i%2==0))"
   ]
  },
  {
   "cell_type": "code",
   "execution_count": 397,
   "id": "f4c66f83-9439-4ece-abb0-f9d6868b890e",
   "metadata": {},
   "outputs": [
    {
     "name": "stdout",
     "output_type": "stream",
     "text": [
      "8\n"
     ]
    }
   ],
   "source": [
    "print(prod)"
   ]
  },
  {
   "cell_type": "code",
   "execution_count": 398,
   "id": "8e5c24fc-3132-4a98-b9f9-6daeef91ad25",
   "metadata": {},
   "outputs": [],
   "source": [
    "#2) to find product of all elements in list using reduce()\n",
    "\n"
   ]
  },
  {
   "cell_type": "code",
   "execution_count": 399,
   "id": "83d0b7de-8d45-483d-8354-c156ddc204b1",
   "metadata": {},
   "outputs": [],
   "source": [
    "l=[2,3,4,5]"
   ]
  },
  {
   "cell_type": "code",
   "execution_count": 400,
   "id": "009553da-e9cc-4674-b140-c8bd5c37410f",
   "metadata": {},
   "outputs": [],
   "source": [
    "prod= reduce(lambda a,b :a*b,l )"
   ]
  },
  {
   "cell_type": "code",
   "execution_count": 401,
   "id": "ad0c2251-c0ee-48bd-b2db-ffa605f459c7",
   "metadata": {},
   "outputs": [
    {
     "name": "stdout",
     "output_type": "stream",
     "text": [
      "120\n"
     ]
    }
   ],
   "source": [
    "print(prod)"
   ]
  },
  {
   "cell_type": "code",
   "execution_count": 402,
   "id": "9f068cca-7cf7-4d3f-83d4-f5c47c50d118",
   "metadata": {},
   "outputs": [],
   "source": [
    "#3) to find maximun element in a list of numbers using reduce()\n",
    "\n"
   ]
  },
  {
   "cell_type": "code",
   "execution_count": 4,
   "id": "3d9b1dcb-70a7-4481-b8c2-74eaf1586b81",
   "metadata": {},
   "outputs": [],
   "source": [
    "from functools import reduce"
   ]
  },
  {
   "cell_type": "code",
   "execution_count": 5,
   "id": "a3ab2832-bdfc-47bc-951d-7502982bfb80",
   "metadata": {},
   "outputs": [],
   "source": [
    "l=[12,34,13,56,100]"
   ]
  },
  {
   "cell_type": "code",
   "execution_count": 7,
   "id": "c62b05a6-9ef9-4816-8b56-a244f0c1a689",
   "metadata": {},
   "outputs": [
    {
     "name": "stdout",
     "output_type": "stream",
     "text": [
      "100\n"
     ]
    }
   ],
   "source": [
    "print(reduce(max,l))"
   ]
  },
  {
   "cell_type": "code",
   "execution_count": 1,
   "id": "ebfd6f5b-8a18-47c1-824f-a007606e4d88",
   "metadata": {},
   "outputs": [],
   "source": [
    "#4) use reduce() to concatenate two lists\n",
    "\n"
   ]
  },
  {
   "cell_type": "code",
   "execution_count": 37,
   "id": "c572c985-6ca7-44e2-8c16-c2a365f8a565",
   "metadata": {},
   "outputs": [],
   "source": [
    "from functools import reduce"
   ]
  },
  {
   "cell_type": "code",
   "execution_count": 38,
   "id": "d01e10da-16ff-4085-8910-15caa779ef1e",
   "metadata": {},
   "outputs": [],
   "source": [
    "import operator"
   ]
  },
  {
   "cell_type": "code",
   "execution_count": 39,
   "id": "c18bcd1b-61fd-4de0-b88d-85c90fb02cc9",
   "metadata": {},
   "outputs": [],
   "source": [
    "l1=[\"sunita\",\"shikha\"]"
   ]
  },
  {
   "cell_type": "code",
   "execution_count": 40,
   "id": "12ce48e8-0b00-42a9-98d8-ce98fce9810a",
   "metadata": {},
   "outputs": [],
   "source": [
    "concat= reduce(operator.concat,l1)"
   ]
  },
  {
   "cell_type": "code",
   "execution_count": 41,
   "id": "1d5dcf77-f7ad-44f0-b447-299d0a0c2869",
   "metadata": {},
   "outputs": [
    {
     "name": "stdout",
     "output_type": "stream",
     "text": [
      "sunitashikha\n"
     ]
    }
   ],
   "source": [
    "print(concat)"
   ]
  },
  {
   "cell_type": "code",
   "execution_count": 42,
   "id": "cb755f36-a5d5-4afa-b2ad-93287f48596e",
   "metadata": {},
   "outputs": [],
   "source": [
    "#5) to calculate factorial using reduce()\n",
    "\n"
   ]
  },
  {
   "cell_type": "code",
   "execution_count": 47,
   "id": "029ad8e1-1762-4bac-bdc3-7f578b163bdd",
   "metadata": {},
   "outputs": [],
   "source": [
    "from functools import reduce"
   ]
  },
  {
   "cell_type": "code",
   "execution_count": 50,
   "id": "532754fc-8be9-463f-ac3d-0bc7b8001619",
   "metadata": {},
   "outputs": [
    {
     "name": "stdout",
     "output_type": "stream",
     "text": [
      "120\n"
     ]
    }
   ],
   "source": [
    "def factorial(n):\n",
    "    if (n==0):\n",
    "        return 1\n",
    "    else:\n",
    "        return reduce(lambda x,y: x*y ,range(1,n+1))\n",
    "    \n",
    "print(factorial(5))    \n",
    "    "
   ]
  },
  {
   "cell_type": "code",
   "execution_count": 51,
   "id": "1d87234f-ea33-4730-a7e8-0acc339526c8",
   "metadata": {},
   "outputs": [],
   "source": [
    "#6) to find GCD using reduce()\n",
    "\n"
   ]
  },
  {
   "cell_type": "code",
   "execution_count": 81,
   "id": "38c329b5-7638-43f4-afc3-5b1eb4fe29c5",
   "metadata": {},
   "outputs": [],
   "source": [
    "from functools import reduce"
   ]
  },
  {
   "cell_type": "code",
   "execution_count": 82,
   "id": "01bb6c24-c784-4c8e-b444-030488856fd8",
   "metadata": {},
   "outputs": [],
   "source": [
    "from math import gcd as _gcd"
   ]
  },
  {
   "cell_type": "code",
   "execution_count": 83,
   "id": "2873efff-ba5c-4ea5-8ae2-1a19b65187db",
   "metadata": {},
   "outputs": [],
   "source": [
    "def find_gcd(num):\n",
    "    return reduce(_gcd,num)\n",
    "    "
   ]
  },
  {
   "cell_type": "code",
   "execution_count": 88,
   "id": "ffda4196-8937-41ef-bf86-1c6f3419a3b1",
   "metadata": {},
   "outputs": [],
   "source": [
    "num=[336,360]"
   ]
  },
  {
   "cell_type": "code",
   "execution_count": 95,
   "id": "f4eb9e9e-46a5-4a54-b478-ab6b02c279b5",
   "metadata": {},
   "outputs": [
    {
     "name": "stdout",
     "output_type": "stream",
     "text": [
      "GCD OF 336,360\n"
     ]
    }
   ],
   "source": [
    "print(\"GCD OF\",\",\".join (str(e) for e in num))"
   ]
  },
  {
   "cell_type": "code",
   "execution_count": 96,
   "id": "2fa4dff4-3fbb-4ff9-ad14-7d699f8a20b7",
   "metadata": {},
   "outputs": [],
   "source": [
    "                                         #FILTER() based problems\n",
    "    \n",
    "    "
   ]
  },
  {
   "cell_type": "code",
   "execution_count": 97,
   "id": "5b7f003d-ab92-4bb6-a1b7-d9a9610a28b8",
   "metadata": {},
   "outputs": [],
   "source": [
    "#1) basic usa of filter() over iterables\n",
    "\n"
   ]
  },
  {
   "cell_type": "code",
   "execution_count": 98,
   "id": "2ad9141e-3230-44a3-b838-e97ce3904626",
   "metadata": {},
   "outputs": [],
   "source": [
    "l=[3,4,5,6,7,8]"
   ]
  },
  {
   "cell_type": "code",
   "execution_count": 99,
   "id": "7cd479a3-baf0-487a-a6d2-8028ebb2d8a0",
   "metadata": {},
   "outputs": [
    {
     "data": {
      "text/plain": [
       "[4, 6, 8]"
      ]
     },
     "execution_count": 99,
     "metadata": {},
     "output_type": "execute_result"
    }
   ],
   "source": [
    "list(filter(lambda a:a%2==0,l))"
   ]
  },
  {
   "cell_type": "code",
   "execution_count": 100,
   "id": "e80dd4d5-1530-4470-b4c2-f56d158db6c7",
   "metadata": {},
   "outputs": [],
   "source": [
    "#2) use of filter() to select even number from a list\n",
    "\n"
   ]
  },
  {
   "cell_type": "code",
   "execution_count": 101,
   "id": "1b5296e0-ef95-46e8-be76-e87a05024fbb",
   "metadata": {},
   "outputs": [],
   "source": [
    "l=[3,4,5,6,7,8]"
   ]
  },
  {
   "cell_type": "code",
   "execution_count": 102,
   "id": "1631f957-c9ec-4b7e-9ffa-c8c91e452992",
   "metadata": {},
   "outputs": [
    {
     "data": {
      "text/plain": [
       "[4, 6, 8]"
      ]
     },
     "execution_count": 102,
     "metadata": {},
     "output_type": "execute_result"
    }
   ],
   "source": [
    "list(filter(lambda a:a%2==0,l))"
   ]
  },
  {
   "cell_type": "code",
   "execution_count": 103,
   "id": "f0b31977-c735-47d9-813e-dda6fbb5bc7d",
   "metadata": {},
   "outputs": [],
   "source": [
    "#3) use of filter() to select names that start with specific letter in string\n",
    "\n"
   ]
  },
  {
   "cell_type": "code",
   "execution_count": 104,
   "id": "cbed643d-c69b-459e-bd1b-554d8fa10f81",
   "metadata": {},
   "outputs": [],
   "source": [
    "s='simranjeet','rahul'"
   ]
  },
  {
   "cell_type": "code",
   "execution_count": 105,
   "id": "d4b8cef9-45ab-4985-b404-0bd9eec4a318",
   "metadata": {},
   "outputs": [
    {
     "data": {
      "text/plain": [
       "['simranjeet']"
      ]
     },
     "execution_count": 105,
     "metadata": {},
     "output_type": "execute_result"
    }
   ],
   "source": [
    "list(filter(lambda a: a[0]=='s',s))"
   ]
  },
  {
   "cell_type": "code",
   "execution_count": 106,
   "id": "55db059a-2651-4d27-89c0-5895d4b4a396",
   "metadata": {},
   "outputs": [],
   "source": [
    "#4)use of filter() to select words longer than a certain limit in a list of string\n",
    "\n"
   ]
  },
  {
   "cell_type": "code",
   "execution_count": 109,
   "id": "c4001dc2-519c-4e90-9bcb-b62c4f7111ca",
   "metadata": {},
   "outputs": [],
   "source": [
    "s='simranjeet','sunita','vivekanand'"
   ]
  },
  {
   "cell_type": "code",
   "execution_count": 112,
   "id": "137b43e1-6a73-4a16-8018-ae51ff59092e",
   "metadata": {},
   "outputs": [
    {
     "data": {
      "text/plain": [
       "['simranjeet', 'vivekanand']"
      ]
     },
     "execution_count": 112,
     "metadata": {},
     "output_type": "execute_result"
    }
   ],
   "source": [
    "list(filter(lambda a: (len(a)>=10),s))"
   ]
  },
  {
   "cell_type": "code",
   "execution_count": 113,
   "id": "52c0f52b-5c60-4d01-82fc-9844f75e744a",
   "metadata": {},
   "outputs": [],
   "source": [
    "#5)use of filter() to select elements greater than a certain limit in a list of elements\n",
    "\n"
   ]
  },
  {
   "cell_type": "code",
   "execution_count": 114,
   "id": "980b4e34-0db3-4564-b925-e8cf5d703bbc",
   "metadata": {},
   "outputs": [],
   "source": [
    "l=[1,2,45,67,89,32,54]"
   ]
  },
  {
   "cell_type": "code",
   "execution_count": 115,
   "id": "cc0327be-fac3-4daf-838b-9ae1d15f3a30",
   "metadata": {},
   "outputs": [
    {
     "data": {
      "text/plain": [
       "[1, 2, 32]"
      ]
     },
     "execution_count": 115,
     "metadata": {},
     "output_type": "execute_result"
    }
   ],
   "source": [
    "list(filter(lambda a: a<45,l))"
   ]
  }
 ],
 "metadata": {
  "kernelspec": {
   "display_name": "Python 3 (ipykernel)",
   "language": "python",
   "name": "python3"
  },
  "language_info": {
   "codemirror_mode": {
    "name": "ipython",
    "version": 3
   },
   "file_extension": ".py",
   "mimetype": "text/x-python",
   "name": "python",
   "nbconvert_exporter": "python",
   "pygments_lexer": "ipython3",
   "version": "3.10.6"
  }
 },
 "nbformat": 4,
 "nbformat_minor": 5
}
